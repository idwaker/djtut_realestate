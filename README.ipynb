{
 "cells": [
  {
   "cell_type": "markdown",
   "metadata": {},
   "source": [
    "# Realestate Django Application Tutorial"
   ]
  },
  {
   "cell_type": "markdown",
   "metadata": {},
   "source": [
    "### Initialization\n",
    "\n",
    "run following commands, *python 3 must be installed for below to work* \n",
    "\n",
    "    $ pyvenv realestate\n",
    "$ cd realestate\n",
    "    $ ./bin/pip install django pillow\n",
    "\n",
    "pillow is required for image support in application, maily for thumbnail generation "
   ]
  },
  {
   "cell_type": "markdown",
   "metadata": {},
   "source": [
    "### Starting Project\n",
    "\n",
    "    $ ./bin/django-admin startproject realestate .\n",
    "\n",
    "this creates a realestate project on current folder instead of creating a new folder named realestate."
   ]
  },
  {
   "cell_type": "code",
   "execution_count": 14,
   "metadata": {
    "collapsed": false
   },
   "outputs": [
    {
     "name": "stdout",
     "output_type": "stream",
     "text": [
      "total 44\r\n",
      "drwxr-xr-x 3 idwaker 4096 Oct 12 10:40 \u001b[0m\u001b[01;34mbin\u001b[0m/\r\n",
      "drwxr-xr-x 2 idwaker 4096 Oct 12 10:39 \u001b[01;34minclude\u001b[0m/\r\n",
      "drwxr-xr-x 3 idwaker 4096 Oct 12 10:39 \u001b[01;34mlib\u001b[0m/\r\n",
      "lrwxrwxrwx 1 idwaker    3 Oct 12 10:39 \u001b[01;36mlib64\u001b[0m -> \u001b[01;34mlib\u001b[0m/\r\n",
      "-rwxr-xr-x 1 idwaker  253 Oct 12 10:41 \u001b[01;32mmanage.py\u001b[0m*\r\n",
      "-rw-r--r-- 1 idwaker   60 Oct 12 10:40 pip-selfcheck.json\r\n",
      "-rw-r--r-- 1 idwaker   69 Oct 12 10:39 pyvenv.cfg\r\n",
      "-rw-r--r-- 1 idwaker 9816 Oct 12 11:25 README.ipynb\r\n",
      "drwxr-xr-x 2 idwaker 4096 Oct 12 10:41 \u001b[01;34mrealestate\u001b[0m/\r\n",
      "-rw-r--r-- 1 idwaker  305 Oct 12 11:10 realestate.komodoproject\r\n"
     ]
    }
   ],
   "source": [
    "# this command may not work on your terminal\n",
    "# use ls on linux/mac and dir on windows\n",
    "%ll ."
   ]
  },
  {
   "cell_type": "markdown",
   "metadata": {},
   "source": [
    "*bin/*, *inlcude/*, *lib/*, *lib64*, *pyvenv.cfg* are created by our first command **pyvenv realestate**\n",
    "\n",
    "*pip-selfcheck.json* is created by pip ( our third command )\n",
    "\n",
    "whereas *manage.py* and *realesate/* are created by our fourth command **./bindjango-admin startproject realestate .**"
   ]
  },
  {
   "cell_type": "code",
   "execution_count": 10,
   "metadata": {
    "collapsed": false
   },
   "outputs": [
    {
     "name": "stdout",
     "output_type": "stream",
     "text": [
      "total 12\r\n",
      "-rw-r--r-- 1 idwaker    0 Oct 12 10:41 __init__.py\r\n",
      "-rw-r--r-- 1 idwaker 2650 Oct 12 10:41 settings.py\r\n",
      "-rw-r--r-- 1 idwaker  760 Oct 12 10:41 urls.py\r\n",
      "-rw-r--r-- 1 idwaker  397 Oct 12 10:41 wsgi.py\r\n"
     ]
    }
   ],
   "source": [
    "# let's look into our application folder ----- remember this is comment starts with #\n",
    "%ll ./realestate"
   ]
  },
  {
   "cell_type": "markdown",
   "metadata": {},
   "source": [
    "**__init__.py** is special python file that says this current folder is python module, which can be loaded by other module or file, like: \n",
    "\n",
    "    from realestate import settings\n",
    "\n",
    "- settings.py is where all our we keep our application related configurations\n",
    "- urls.py is where we say this url should match and load this view file\n",
    "- wsgi.py is special file which will be used by server like apache to serve our application"
   ]
  },
  {
   "cell_type": "markdown",
   "metadata": {},
   "source": [
    "### working with git\n",
    "\n",
    "    $ git init\n",
    "$ git status\n",
    "\n",
    "don't add all files yet, we need to ignore some of files/directories we dont want"
   ]
  },
  {
   "cell_type": "markdown",
   "metadata": {},
   "source": [
    "### create .gitignore file\n",
    "\n",
    "    $ touch .gitignore\n",
    "\n",
    "create .gitignore file with contents same as below"
   ]
  },
  {
   "cell_type": "code",
   "execution_count": null,
   "metadata": {
    "collapsed": false
   },
   "outputs": [],
   "source": [
    "# %load .gitignore\n",
    "# ignore any files ending with pyo or pyc\n",
    "*.py[co]\n",
    "\n",
    "# ignore python3 cache directory\n",
    "__pycache__/\n",
    "\n",
    "# ignore directories and files created by pyvenv and pip\n",
    "bin/\n",
    "include/\n",
    "lib/\n",
    "lib64\n",
    "pyvenv.cfg\n",
    "pip-selfcheck.json\n",
    "\n",
    "\n",
    "# ignore files and directories created by your editor or IDE\n",
    "*.komodoproject\n",
    "\n",
    "# ignore directory created by jupyter/ipython-notebook\n",
    "*.ipynb_checkpoints/\n",
    "\n",
    "# don't ignore these type of files, we will use this to add empty folders to\n",
    "# git\n",
    "!.gitkeep"
   ]
  },
  {
   "cell_type": "markdown",
   "metadata": {},
   "source": [
    "the files and directories that matches above rules won't be added or committed to our git repo,\n",
    "\n",
    "the last one jupyter/ipython-notebook is tool used to create this documentation"
   ]
  },
  {
   "cell_type": "markdown",
   "metadata": {},
   "source": [
    "### now add and commit files to git\n",
    "\n",
    "    $ git status\n",
    "$ git add .\n",
    "    $ git status\n",
    "$ git commit -m \"initial commit\"\n",
    "    $ git status"
   ]
  },
  {
   "cell_type": "markdown",
   "metadata": {},
   "source": [
    "### Customize settings.py"
   ]
  },
  {
   "cell_type": "code",
   "execution_count": null,
   "metadata": {
    "collapsed": true
   },
   "outputs": [],
   "source": [
    "# %load realestate/settings.py\n",
    "\"\"\"\n",
    "Django settings for realestate project.\n",
    "\n",
    "Generated by 'django-admin startproject' using Django 1.8.5.\n",
    "\n",
    "For more information on this file, see\n",
    "https://docs.djangoproject.com/en/1.8/topics/settings/\n",
    "\n",
    "For the full list of settings and their values, see\n",
    "https://docs.djangoproject.com/en/1.8/ref/settings/\n",
    "\"\"\"\n",
    "\n",
    "# Build paths inside the project like this: os.path.join(BASE_DIR, ...)\n",
    "import os\n",
    "\n",
    "BASE_DIR = os.path.dirname(os.path.dirname(os.path.abspath(__file__)))\n",
    "\n",
    "\n",
    "# Quick-start development settings - unsuitable for production\n",
    "# See https://docs.djangoproject.com/en/1.8/howto/deployment/checklist/\n",
    "\n",
    "# SECURITY WARNING: keep the secret key used in production secret!\n",
    "SECRET_KEY = 'twj8j2pn4lfhyzr^4_u^f@g5#(1mc^9spicc$y56n%u08n=n@e'\n",
    "\n",
    "# SECURITY WARNING: don't run with debug turned on in production!\n",
    "DEBUG = True\n",
    "\n",
    "ALLOWED_HOSTS = []\n",
    "\n",
    "\n",
    "# Application definition\n",
    "\n",
    "INSTALLED_APPS = (\n",
    "    'django.contrib.admin',\n",
    "    'django.contrib.auth',\n",
    "    'django.contrib.contenttypes',\n",
    "    'django.contrib.sessions',\n",
    "    'django.contrib.messages',\n",
    "    'django.contrib.staticfiles',\n",
    ")\n",
    "\n",
    "MIDDLEWARE_CLASSES = (\n",
    "    'django.contrib.sessions.middleware.SessionMiddleware',\n",
    "    'django.middleware.common.CommonMiddleware',\n",
    "    'django.middleware.csrf.CsrfViewMiddleware',\n",
    "    'django.contrib.auth.middleware.AuthenticationMiddleware',\n",
    "    'django.contrib.auth.middleware.SessionAuthenticationMiddleware',\n",
    "    'django.contrib.messages.middleware.MessageMiddleware',\n",
    "    'django.middleware.clickjacking.XFrameOptionsMiddleware',\n",
    "    'django.middleware.security.SecurityMiddleware',\n",
    ")\n",
    "\n",
    "ROOT_URLCONF = 'realestate.urls'\n",
    "\n",
    "TEMPLATES = [\n",
    "    {\n",
    "        'BACKEND': 'django.template.backends.django.DjangoTemplates',\n",
    "        'DIRS': [],\n",
    "        'APP_DIRS': True,\n",
    "        'OPTIONS': {\n",
    "            'context_processors': [\n",
    "                'django.template.context_processors.debug',\n",
    "                'django.template.context_processors.request',\n",
    "                'django.contrib.auth.context_processors.auth',\n",
    "                'django.contrib.messages.context_processors.messages',\n",
    "            ],\n",
    "        },\n",
    "    },\n",
    "]\n",
    "\n",
    "WSGI_APPLICATION = 'realestate.wsgi.application'\n",
    "\n",
    "\n",
    "# Database\n",
    "# https://docs.djangoproject.com/en/1.8/ref/settings/#databases\n",
    "\n",
    "DATABASES = {\n",
    "    'default': {\n",
    "        'ENGINE': 'django.db.backends.sqlite3',\n",
    "        'NAME': os.path.join(BASE_DIR, 'db.sqlite3'),\n",
    "    }\n",
    "}\n",
    "\n",
    "\n",
    "# Internationalization\n",
    "# https://docs.djangoproject.com/en/1.8/topics/i18n/\n",
    "\n",
    "LANGUAGE_CODE = 'en-us'\n",
    "\n",
    "TIME_ZONE = 'UTC'\n",
    "\n",
    "USE_I18N = True\n",
    "\n",
    "USE_L10N = True\n",
    "\n",
    "USE_TZ = True\n",
    "\n",
    "\n",
    "# Static files (CSS, JavaScript, Images)\n",
    "# https://docs.djangoproject.com/en/1.8/howto/static-files/\n",
    "\n",
    "STATIC_URL = '/static/'\n"
   ]
  },
  {
   "cell_type": "markdown",
   "metadata": {},
   "source": [
    "we will not change anything now, but just remember what each section does\n",
    "\n",
    "```python\n",
    "BASE_DIR = os.path.dirname(os.path.dirname(os.path.abspath(__file__)))\n",
    "```\n",
    "\n",
    "   BASE_DIR will point to top realestate directory that we created with pyvenv in our case,\n",
    "   os.path.abspath(\\__file\\__) returns abosulte path of **settings.py** file which will be "
   ]
  },
  {
   "cell_type": "code",
   "execution_count": 19,
   "metadata": {
    "collapsed": false
   },
   "outputs": [
    {
     "data": {
      "text/plain": [
       "'/home/idwaker/Projects/realestate/realestate/settings.py'"
      ]
     },
     "execution_count": 19,
     "metadata": {},
     "output_type": "execute_result"
    }
   ],
   "source": [
    "import os\n",
    "\n",
    "# this is where settings.py located in my computer, your's will be different\n",
    "os.path.abspath('realestate/settings.py')"
   ]
  },
  {
   "cell_type": "code",
   "execution_count": 20,
   "metadata": {
    "collapsed": false
   },
   "outputs": [
    {
     "data": {
      "text/plain": [
       "'/home/idwaker/Projects/realestate/realestate'"
      ]
     },
     "execution_count": 20,
     "metadata": {},
     "output_type": "execute_result"
    }
   ],
   "source": [
    "# now os.path.dirname\n",
    "os.path.dirname(os.path.abspath('realestate/settings.py'))"
   ]
  },
  {
   "cell_type": "markdown",
   "metadata": {},
   "source": [
    "which returned our application directory path created by **django-admin** command"
   ]
  },
  {
   "cell_type": "code",
   "execution_count": 23,
   "metadata": {
    "collapsed": false
   },
   "outputs": [
    {
     "data": {
      "text/plain": [
       "'/home/idwaker/Projects/realestate'"
      ]
     },
     "execution_count": 23,
     "metadata": {},
     "output_type": "execute_result"
    }
   ],
   "source": [
    "# finally BASE_DIR will be \n",
    "BASE_DIR = os.path.dirname(os.path.dirname(os.path.abspath('realestate/settings.py')))\n",
    "BASE_DIR"
   ]
  },
  {
   "cell_type": "markdown",
   "metadata": {},
   "source": [
    "which is directory which we created with \n",
    "\n",
    "    ./bin/django-admin startproject realestate .\n",
    "if we have used command like this \n",
    "\n",
    "    ./bin/django-admin startproject realestate\n",
    "*remember without dot*, then our output would be like this\n",
    "\n",
    "    '/home/idwaker/Projects/realestate/realestate'\n",
    "because this command would have created a new realestate folder inside, containing manage.py\n",
    "\n",
    "*Note: remember, BASE_DIR should point to directory containing manage.py file*\n",
    "\n",
    "```python\n",
    "SECRET_KEY = 'twj8j2pn4lfhyzr^4_u^f@g5#(1mc^9spicc$y56n%u08n=n@e'\n",
    "```\n",
    "\n",
    "this is randomly generated by django which is used to encrypt session/cookie, so you need to create new secret key when you deploy application to server.\n",
    "\n",
    "```python\n",
    "DEBUG = True\n",
    "```\n",
    "\n",
    "this is what makes error and exceptions show nicely on our web page, this should also be changed while deploying to server. by changing **True** to **False**\n",
    "\n",
    "*Rest will be explained as we go and modify/use each sections*"
   ]
  },
  {
   "cell_type": "markdown",
   "metadata": {},
   "source": [
    "### Run application\n",
    "\n",
    "    $ ./bin/python manage.py runserver\n",
    "    Performing system checks...\n",
    "\n",
    "    System check identified no issues (0 silenced).\n",
    "\n",
    "    You have unapplied migrations; your app may not work properly until they are applied.\n",
    "    Run 'python manage.py migrate' to apply them.\n",
    "\n",
    "    October 12, 2015 - 07:30:21\n",
    "    Django version 1.8.5, using settings 'realestate.settings'\n",
    "    Starting development server at http://127.0.0.1:8000/\n",
    "    Quit the server with CONTROL-C.\n",
    "\n",
    "we can view web application *http://127.0.0.1:8000/* using web browser, which is our basic application. Home page looks like this\n",
    "\n",
    "![homepage](./jupyter-images/django-home-first.png)"
   ]
  },
  {
   "cell_type": "markdown",
   "metadata": {},
   "source": [
    "### Migrate and Create super user\n",
    "\n",
    "Admin is one of the app ( component ) that comes with django installation, Django Admin gives us application administration for free. To use admin/ and more of django features we have to run following commands.\n",
    "\n",
    "    $ ./bin/python manage.py migrate\n",
    "this command runs migrations ( which are just database schemas for this specific app that gets applied or database tables that are required for this app to run are created.)\n",
    "\n",
    "    $ ./bin/python manage.py createsuperuser\n",
    "    Username (leave blank to use 'idwaker'): admin\n",
    "    Email address: admin@example.net\n",
    "    Password: \n",
    "    Password (again): \n",
    "    Superuser created successfully.\n",
    "\n",
    "this command helps us to create superuser for our application, follow the instructions and give username, email and password.\n",
    "\n",
    "Now run\n",
    "\n",
    "    $ ./bin/python manage.py runserver\n",
    "\n",
    "we can as well view application *http://127.0.0.1:8000/* using web browser but also go to *http://127.0.0.1:8000/admin* and login using username and password as we have provided earlier.\n",
    "\n",
    "Login Page and Admin page looks like below:\n",
    "\n",
    "![Login](./jupyter-images/django-login.png)\n",
    "![Admin](./jupyter-images/django-admin-first.png)"
   ]
  },
  {
   "cell_type": "markdown",
   "metadata": {},
   "source": [
    "also we ignored db.sqlite3 file created after we run **migrate** command, *db.sqlite3* is a database file"
   ]
  },
  {
   "cell_type": "code",
   "execution_count": null,
   "metadata": {
    "collapsed": true
   },
   "outputs": [],
   "source": [
    "# %load .gitignore\n",
    "...\n",
    "pip-selfcheck.json\n",
    "db.sqlite3\n",
    "..."
   ]
  },
  {
   "cell_type": "markdown",
   "metadata": {},
   "source": [
    "... not showing whole document, just a part of it.\n",
    "\n",
    "\n",
    "Now run\n",
    "\n",
    "    $ git status\n",
    "$ git add .\n",
    "    $ git commit -m \"ignored sqlite file\"\n",
    "$ git status"
   ]
  },
  {
   "cell_type": "markdown",
   "metadata": {},
   "source": [
    "Sqlite is special kind of database, that it doesnot need a separate server like mysql, oracle etc requires, all it needs is path to file where it can write data.\n",
    "\n",
    "The path is defined in *settings.py* file in this section\n",
    "```python\n",
    "DATABASES = {\n",
    "    'default': {\n",
    "        'ENGINE': 'django.db.backends.sqlite3',\n",
    "        'NAME': os.path.join(BASE_DIR, 'db.sqlite3'),\n",
    "    }\n",
    "}\n",
    "```\n",
    "\n",
    "Now let's look at urls.py"
   ]
  },
  {
   "cell_type": "code",
   "execution_count": null,
   "metadata": {
    "collapsed": true
   },
   "outputs": [],
   "source": [
    "# %load ./realestate/urls.py\n",
    "\"\"\"realestate URL Configuration\n",
    "\n",
    "The `urlpatterns` list routes URLs to views. For more information please see:\n",
    "    https://docs.djangoproject.com/en/1.8/topics/http/urls/\n",
    "Examples:\n",
    "Function views\n",
    "    1. Add an import:  from my_app import views\n",
    "    2. Add a URL to urlpatterns:  url(r'^$', views.home, name='home')\n",
    "Class-based views\n",
    "    1. Add an import:  from other_app.views import Home\n",
    "    2. Add a URL to urlpatterns:  url(r'^$', Home.as_view(), name='home')\n",
    "Including another URLconf\n",
    "    1. Add an import:  from blog import urls as blog_urls\n",
    "    2. Add a URL to urlpatterns:  url(r'^blog/', include(blog_urls))\n",
    "\"\"\"\n",
    "from django.conf.urls import include, url\n",
    "from django.contrib import admin\n",
    "\n",
    "urlpatterns = [\n",
    "    url(r'^admin/', include(admin.site.urls)),\n",
    "]\n"
   ]
  },
  {
   "cell_type": "markdown",
   "metadata": {},
   "source": [
    "```python\n",
    "r'^admin/'\n",
    "```\n",
    "is regular expression that is actually **admin** in *http://127.0.0.1/admin/*\n",
    "\n",
    "- ^ means starts with\n",
    "- admin is text which we want to match url with\n",
    "- ending with /\n",
    "\n",
    "so if we put\n",
    "```python\n",
    "url(r'^restricted/', include(admin.site.urls)),\n",
    "```\n",
    "\n",
    "we have to load admin page as *http://127.0.0.1/restricted/*"
   ]
  },
  {
   "cell_type": "markdown",
   "metadata": {},
   "source": [
    "### Starting a app\n",
    "\n",
    "Now we want our application to do something rather than just creating users/groups ( **play with admin page little bit** )\n",
    "\n",
    "First we defined our data, what we want in our application, we need these things.\n",
    "\n",
    "- Property *what we will deal with*\n",
    "  + House\n",
    "  + Land\n",
    "- Customer *who will these related to*\n",
    "  + Seller\n",
    "  + Buyer\n",
    "\n",
    "so we will create two apps, each for\n",
    "\n",
    "- Property\n",
    "  + add/edit/delete property\n",
    "  + list/show property\n",
    "   \n",
    "- Customer\n",
    "  + either signup as seller or buyer\n",
    "  + seller will be able to add new property\n",
    "  + buyer will be able to view those via listing and ask for quotation/send email\n",
    "\n",
    "*Note: since this will be simple workable demo app, this will contain basic feature of every application.*"
   ]
  },
  {
   "cell_type": "markdown",
   "metadata": {},
   "source": [
    "First we will work with **property** app and finish that and go for **customer** app.\n",
    "\n",
    "    $ ./bin/python manage.py startapp property\n",
    "\n",
    "It will create new folder named property and some basic files on it."
   ]
  },
  {
   "cell_type": "code",
   "execution_count": 28,
   "metadata": {
    "collapsed": false
   },
   "outputs": [
    {
     "name": "stdout",
     "output_type": "stream",
     "text": [
      "total 20\r\n",
      "-rw-r--r-- 1 idwaker   63 Oct 12 14:37 admin.py\r\n",
      "-rw-r--r-- 1 idwaker    0 Oct 12 14:37 __init__.py\r\n",
      "drwxr-xr-x 2 idwaker 4096 Oct 12 14:37 \u001b[0m\u001b[01;34mmigrations\u001b[0m/\r\n",
      "-rw-r--r-- 1 idwaker   57 Oct 12 14:37 models.py\r\n",
      "-rw-r--r-- 1 idwaker   60 Oct 12 14:37 tests.py\r\n",
      "-rw-r--r-- 1 idwaker   63 Oct 12 14:37 views.py\r\n"
     ]
    }
   ],
   "source": [
    "%ll ./property"
   ]
  },
  {
   "cell_type": "markdown",
   "metadata": {},
   "source": [
    "- admin.py \n",
    "\n",
    "everything that we want to use with admin page goes here\n",
    "\n",
    "- models.py\n",
    "\n",
    "all database related code goes here\n",
    "\n",
    "- views.py\n",
    "\n",
    "all codes that gets data from database, works on it and creates something we can make meaning of goes here\n",
    "\n",
    "- tests.py\n",
    "\n",
    "all codes that tests views and models functions goes here\n",
    "\n",
    "- migrations/\n",
    "\n",
    "this folder contain scripts generated by django, which is used by **migrate** command to create database tables"
   ]
  },
  {
   "cell_type": "code",
   "execution_count": null,
   "metadata": {
    "collapsed": true
   },
   "outputs": [],
   "source": []
  }
 ],
 "metadata": {
  "kernelspec": {
   "display_name": "Python 3",
   "language": "python",
   "name": "python3"
  },
  "language_info": {
   "codemirror_mode": {
    "name": "ipython",
    "version": 3
   },
   "file_extension": ".py",
   "mimetype": "text/x-python",
   "name": "python",
   "nbconvert_exporter": "python",
   "pygments_lexer": "ipython3",
   "version": "3.5.0"
  }
 },
 "nbformat": 4,
 "nbformat_minor": 0
}
