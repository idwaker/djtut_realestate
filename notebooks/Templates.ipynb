{
 "cells": [
  {
   "cell_type": "markdown",
   "metadata": {},
   "source": [
    "### Templates"
   ]
  },
  {
   "cell_type": "markdown",
   "metadata": {},
   "source": [
    "like our last view **list** we don't have to use html inside our python function, ( infact we shouldn't use html inside our python file at all ). So we have templates ( which are plain html files with some of python like constructs. )\n",
    "\n",
    "to use templates we will have to put html files on some location, we will use templates folder inside app directory.\n",
    "\n",
    "    $ mkdir -p property/templates"
   ]
  },
  {
   "cell_type": "code",
   "execution_count": 2,
   "metadata": {
    "collapsed": false
   },
   "outputs": [
    {
     "name": "stdout",
     "output_type": "stream",
     "text": [
      "total 28\r\n",
      "-rw-r--r-- 1 idwaker  336 Oct 13 10:34 admin.py\r\n",
      "-rw-r--r-- 1 idwaker    0 Oct 12 14:37 __init__.py\r\n",
      "drwxr-xr-x 3 idwaker 4096 Oct 13 10:28 \u001b[0m\u001b[01;34mmigrations\u001b[0m/\r\n",
      "-rw-r--r-- 1 idwaker  662 Oct 13 10:44 models.py\r\n",
      "drwxr-xr-x 2 idwaker 4096 Oct 15 09:45 \u001b[01;34m__pycache__\u001b[0m/\r\n",
      "drwxr-xr-x 2 idwaker 4096 Oct 15 08:44 \u001b[01;34mtemplates\u001b[0m/\r\n",
      "-rw-r--r-- 1 idwaker   60 Oct 12 14:37 tests.py\r\n",
      "-rw-r--r-- 1 idwaker 1887 Oct 15 10:15 views.py\r\n"
     ]
    }
   ],
   "source": [
    "%ll ../property"
   ]
  },
  {
   "cell_type": "code",
   "execution_count": 5,
   "metadata": {
    "collapsed": false
   },
   "outputs": [
    {
     "name": "stdout",
     "output_type": "stream",
     "text": [
      "total 0\r\n",
      "-rw-r--r-- 1 idwaker 0 Oct 15 10:35 list.html\r\n"
     ]
    }
   ],
   "source": [
    "%ll ../property/templates"
   ]
  },
  {
   "cell_type": "markdown",
   "metadata": {},
   "source": [
    "we have **list.html** which we will use with **list** view on views.py instead of showing html contents from python function itself."
   ]
  },
  {
   "cell_type": "markdown",
   "metadata": {},
   "source": [
    "change our **list** view in *property/views.py* file as\n",
    "```python\n",
    "def list(request):\n",
    "    \"\"\"\n",
    "    This view list all houses\n",
    "    \"\"\"\n",
    "\n",
    "    # get all house objects/rows stored in database\n",
    "    houses = House.objects.all()\n",
    "\n",
    "    # get only those added by above add view\n",
    "    selected = House.objects.filter(title='This is added and also duplicated')\n",
    "    return render(request, 'list.html', {\n",
    "        'all_houses': houses,\n",
    "        'selected_houses': selected\n",
    "    })\n",
    "```\n",
    "\n",
    "Here\n",
    ">render will load *list.html* file from templates directory and will pass **houses** variable as **all_houses** variable and **selected** variable as **selected_houses** variable\n",
    "\n",
    "we need to import *render* at top of the file\n",
    "```python\n",
    "from django.shortcuts import render\n",
    "```"
   ]
  },
  {
   "cell_type": "markdown",
   "metadata": {},
   "source": [
    "*property/templates/list.html* looks like\n",
    "```django\n",
    "<!DOCTYPE html>\n",
    "<html>\n",
    "    <head>\n",
    "        <title>List of Houses</title>\n",
    "    </head>\n",
    "    <body>\n",
    "        <div>\n",
    "            <h3>All Houses</h3>\n",
    "            <ul>\n",
    "            {% for house in all_houses %}\n",
    "                <li>{{ house.title }}</li>\n",
    "            {% endfor %}\n",
    "            </ul>\n",
    "\n",
    "            <h3>Selected Houses</h3>\n",
    "            <ul>\n",
    "            {% for house in selected_houses %}\n",
    "                <li>{{ house.title }}</li>\n",
    "            {% endfor %}\n",
    "            </ul>\n",
    "        </div>\n",
    "    </body>\n",
    "</html>\n",
    "```"
   ]
  },
  {
   "cell_type": "markdown",
   "metadata": {},
   "source": [
    "we have remove all logic that is related to listing houses from **list** view and moved to **list** template using html content.\n",
    "\n",
    "In above template code. we have use two kinds of tags,\n",
    "\n",
    "1. that is inside angle brackets < and >, starts with **tag-name** and ends with **/tag-name**. These are plain html tags see [Html Tutorial](http://www.w3schools.com/html/default.asp)\n",
    "2. Other that is inside {% and %} and {{ and }}. These are django specific tags and shouldn't be uses outside django. ( But there are similar templates used in other frameworks/languages as well, like Jinja2 in python and Twig in Php, all inspired from Django and works very much similar. ) [See More](https://docs.djangoproject.com/en/1.8/topics/templates/)\n",
    "    \n",
    "    - {% %} are control statements like **for** loop, or **if/else** block, each control statement must end with **end** statement like **endfor** **endif**, **endblock** for **block** statement etc.\n",
    "    - {{ }} are just used for printing variables or showing values of variables.\n",
    "\n",
    ">Like above we loop through each of **all_houses** variable and print **title** for each house, same as we did previosuly but inside function, this is much cleaner and easy to undestand\n",
    "\n",
    "Reload the page and you will not see any changes, because both results are equivalent."
   ]
  },
  {
   "cell_type": "markdown",
   "metadata": {
    "collapsed": true
   },
   "source": [
    "We have updated our **list** view, let's update our **add** view too. We will create a form so we will be able to create new House, instead creating same House each time we reload page.\n",
    "\n",
    "*property/views.py*\n",
    "```python\n",
    "def add(request):\n",
    "    \"\"\"\n",
    "    This view shows how we can create a new instance and save to database\n",
    "\n",
    "    Every view must have request argument, which is passed by django\n",
    "    \"\"\"\n",
    "    done = ''\n",
    "    if request.POST:\n",
    "        house = House(\n",
    "            title=request.POST.get('title'),\n",
    "            description=request.POST.get('description'),\n",
    "            price=request.POST.get('price'),\n",
    "            address=request.POST.get('address'),\n",
    "            bedrooms=request.POST.get('bedrooms'),\n",
    "            bathrooms=request.POST.get('bathrooms'),\n",
    "            kitchens=request.POST.get('kitchens')\n",
    "        )\n",
    "        house.save()\n",
    "        done = 'Your form is submitted and saved.'\n",
    "\n",
    "    return render(request, 'form.html', {'done': done})\n",
    "```\n",
    "\n",
    ">In above code if form is submitted by clicking Save button, a new house object is creating using those submitted from the **form**, all the submitted data goes to *request.POST* dictionary and we can access using method above, Remember: item we are accessing must be name attribute on html form.\n",
    "\n",
    ">In either case, form submitted or not we will get the same form, however if form is submitted our **done** variable will have message, which will be displayed later on.\n",
    "\n",
    "\n",
    "*property/form.html*\n",
    "```django\n",
    "<!DOCTYPE html>\n",
    "<html>\n",
    "    <head>\n",
    "        <title>Add New Houses</title>\n",
    "    </head>\n",
    "    <body>\n",
    "        <div>\n",
    "            <h3>Add House: {{ done }}</h3>\n",
    "            <form name=\"add\" action=\"\" method=\"post\">\n",
    "                {% csrf_token %}\n",
    "                <div>\n",
    "                    <label>Title</label>\n",
    "                    <input type=\"text\" name=\"title\" value=\"\" />\n",
    "                </div>\n",
    "                <div>\n",
    "                    <label>Description</label>\n",
    "                    <input type=\"text\" name=\"description\" value=\"\" />\n",
    "                </div>\n",
    "                <div>\n",
    "                    <label>Price</label>\n",
    "                    <input type=\"text\" name=\"price\" value=\"\" />\n",
    "                </div>\n",
    "                <div>\n",
    "                    <label>Address</label>\n",
    "                    <textarea name=\"address\"></textarea>\n",
    "                </div>\n",
    "                <div>\n",
    "                    <label>Bedrooms</label>\n",
    "                    <input type=\"text\" name=\"bedrooms\" value=\"\" />\n",
    "                </div>\n",
    "                <div>\n",
    "                    <label>Bathrooms</label>\n",
    "                    <input type=\"text\" name=\"bathrooms\" value=\"\" />\n",
    "                </div>\n",
    "                <div>\n",
    "                    <label>Kitchens</label>\n",
    "                    <input type=\"text\" name=\"kitchens\" value=\"\" />\n",
    "                </div>\n",
    "                <div>\n",
    "                    <input type=\"submit\" name=\"submit\" value=\"Save\" />\n",
    "                </div>\n",
    "            </form>\n",
    "        </div>\n",
    "    </body>\n",
    "</html>\n",
    "```\n",
    "\n",
    ">csrf_token creates a hidden input field with csrf token generated by django, csrf token is automatically verified by django while submitting any form. [Learn more about CSRF](https://en.wikipedia.org/wiki/Cross-site_request_forgery)"
   ]
  },
  {
   "cell_type": "markdown",
   "metadata": {},
   "source": [
    "we can verify from screenshots\n",
    "\n",
    "![view-add2](./images/view-add2.png)\n",
    "\n",
    "![view-add3](./images/view-add3.png)\n",
    "\n",
    "![view-list5](./images/view-list5.png)"
   ]
  },
  {
   "cell_type": "markdown",
   "metadata": {},
   "source": [
    "Adding data was easy, but we need to consider many things while we are creating such forms.\n",
    "\n",
    "- What happens when user submitted blank form ?\n",
    "- What happens when user submitted wrong type on some field, for example add 'abc' to number of bedrooms ? and many more..\n",
    "\n",
    "so to make sure user's are not allowed to do anything other than what we want them to do, we validate and sanitize forms after they are submitted and we only save to database after we are sure they are safe to save.\n",
    "\n",
    "Here is screenshot of what happens when we try to submit empty form.\n",
    "\n",
    "![view-add-error1](./images/view-add-error1.png)\n",
    "\n",
    "and it is not nice to show this kind of error message to users."
   ]
  },
  {
   "cell_type": "markdown",
   "metadata": {},
   "source": [
    "django gives a easy way to validate and show error messages for such forms, let's use that\n",
    "\n",
    "first we create *forms.py* module inside property app.\n",
    "\n",
    "*property/forms.py*\n",
    "```python\n",
    "from django import forms\n",
    "\n",
    "\n",
    "class HouseForm(forms.Form):\n",
    "    title = forms.CharField(max_length=120)\n",
    "    description = forms.CharField(widget=forms.Textarea)\n",
    "    price = forms.DecimalField(max_digits=9, decimal_places=2)\n",
    "    address = forms.CharField(widget=forms.Textarea)\n",
    "    bedrooms = forms.IntegerField()\n",
    "    bathrooms = forms.IntegerField()\n",
    "    kitchens = forms.IntegerField()\n",
    "```\n",
    "\n",
    "> a form definition is same as model definition, but it doesnot change or anyway relate to database.\n",
    "\n",
    "[Learn More about forms](https://docs.djangoproject.com/en/1.8/topics/forms/)\n",
    "\n",
    "now change **add** view in *property/views.py*\n",
    "```python\n",
    "from .forms import HouseForm\n",
    "\n",
    "\n",
    "def add(request):\n",
    "    \"\"\"\n",
    "    This view shows how we can create a new instance and save to database\n",
    "\n",
    "    Every view must have request argument, which is passed by django\n",
    "    \"\"\"\n",
    "    form = HouseForm()\n",
    "    done = ''\n",
    "    if request.POST:\n",
    "        form = HouseForm(request.POST)\n",
    "        if form.is_valid():\n",
    "            house = House(\n",
    "                title=form.cleaned_data['title'],\n",
    "                description=form.cleaned_data['description'],\n",
    "                price=form.cleaned_data['price'],\n",
    "                address=form.cleaned_data['address'],\n",
    "                bedrooms=form.cleaned_data['bedrooms'],\n",
    "                bathrooms=form.cleaned_data['bathrooms'],\n",
    "                kitchens=form.cleaned_data['kitchens']\n",
    "            )\n",
    "            house.save()\n",
    "            done = 'Your form is submitted and saved.'\n",
    "\n",
    "    return render(request, 'form.html', {'done': done, 'form': form})\n",
    "```\n",
    "\n",
    "> only difference is that we are creating HouseForm object, if form is submitted then we pass submitted data to HouseForm. Check is form is valid ( rules are derived from HouseForm attributes, such as every field is required unless defined blank=True, type must be matched and so on\n",
    "\n",
    "we make changes on template as well *property/templates/form.html'\n",
    "```django\n",
    "<!DOCTYPE html>\n",
    "<html>\n",
    "    <head>\n",
    "        <title>Add New Houses</title>\n",
    "    </head>\n",
    "    <body>\n",
    "        <div>\n",
    "            <h3>Add House: {{ done }}</h3>\n",
    "            <form name=\"add\" action=\"\" method=\"post\">\n",
    "                {% csrf_token %}\n",
    "                {{ form.as_p }}\n",
    "                <div>\n",
    "                    <input type=\"submit\" name=\"submit\" value=\"Save\" />\n",
    "                </div>\n",
    "            </form>\n",
    "        </div>\n",
    "    </body>\n",
    "</html>\n",
    "```\n",
    "\n",
    "which got a lot shorter, because form object outputs the necessary html by itself. Reload the page, there is not much difference instead of validation while we try to submit the page."
   ]
  },
  {
   "cell_type": "markdown",
   "metadata": {},
   "source": [
    "here is screenshot of submitting empty form ( where there was error in screenshot abov)"
   ]
  }
 ],
 "metadata": {
  "kernelspec": {
   "display_name": "Python 3",
   "language": "python",
   "name": "python3"
  },
  "language_info": {
   "codemirror_mode": {
    "name": "ipython",
    "version": 3
   },
   "file_extension": ".py",
   "mimetype": "text/x-python",
   "name": "python",
   "nbconvert_exporter": "python",
   "pygments_lexer": "ipython3",
   "version": "3.5.0"
  }
 },
 "nbformat": 4,
 "nbformat_minor": 0
}
