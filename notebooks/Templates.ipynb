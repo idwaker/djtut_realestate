{
 "cells": [
  {
   "cell_type": "markdown",
   "metadata": {},
   "source": [
    "### Templates"
   ]
  },
  {
   "cell_type": "markdown",
   "metadata": {},
   "source": [
    "like our last view **list** we don't have to use html inside our python function, ( infact we shouldn't use html inside our python file at all ). So we have templates ( which are plain html files with some of python like constructs. )\n",
    "\n",
    "to use templates we will have to put html files on some location, we will use templates folder inside app directory.\n",
    "\n",
    "    $ mkdir -p property/templates"
   ]
  },
  {
   "cell_type": "code",
   "execution_count": 2,
   "metadata": {
    "collapsed": false
   },
   "outputs": [
    {
     "name": "stdout",
     "output_type": "stream",
     "text": [
      "total 28\r\n",
      "-rw-r--r-- 1 idwaker  336 Oct 13 10:34 admin.py\r\n",
      "-rw-r--r-- 1 idwaker    0 Oct 12 14:37 __init__.py\r\n",
      "drwxr-xr-x 3 idwaker 4096 Oct 13 10:28 \u001b[0m\u001b[01;34mmigrations\u001b[0m/\r\n",
      "-rw-r--r-- 1 idwaker  662 Oct 13 10:44 models.py\r\n",
      "drwxr-xr-x 2 idwaker 4096 Oct 15 09:45 \u001b[01;34m__pycache__\u001b[0m/\r\n",
      "drwxr-xr-x 2 idwaker 4096 Oct 15 08:44 \u001b[01;34mtemplates\u001b[0m/\r\n",
      "-rw-r--r-- 1 idwaker   60 Oct 12 14:37 tests.py\r\n",
      "-rw-r--r-- 1 idwaker 1887 Oct 15 10:15 views.py\r\n"
     ]
    }
   ],
   "source": [
    "%ll ../property"
   ]
  },
  {
   "cell_type": "code",
   "execution_count": 5,
   "metadata": {
    "collapsed": false
   },
   "outputs": [
    {
     "name": "stdout",
     "output_type": "stream",
     "text": [
      "total 0\r\n",
      "-rw-r--r-- 1 idwaker 0 Oct 15 10:35 list.html\r\n"
     ]
    }
   ],
   "source": [
    "%ll ../property/templates"
   ]
  },
  {
   "cell_type": "markdown",
   "metadata": {},
   "source": [
    "we have **list.html** which we will use with **list** view on views.py instead of showing html contents from python function itself."
   ]
  },
  {
   "cell_type": "markdown",
   "metadata": {},
   "source": [
    "change our **list** view in *property/views.py* file as\n",
    "```python\n",
    "def list(request):\n",
    "    \"\"\"\n",
    "    This view list all houses\n",
    "    \"\"\"\n",
    "\n",
    "    # get all house objects/rows stored in database\n",
    "    houses = House.objects.all()\n",
    "\n",
    "    # get only those added by above add view\n",
    "    selected = House.objects.filter(title='This is added and also duplicated')\n",
    "    return render(request, 'list.html', {\n",
    "        'all_houses': houses,\n",
    "        'selected_houses': selected\n",
    "    })\n",
    "```\n",
    "\n",
    "Here\n",
    ">render will load *list.html* file from templates directory and will pass **houses** variable as **all_houses** variable and **selected** variable as **selected_houses** variable\n",
    "\n",
    "we need to import *render* at top of the file\n",
    "```python\n",
    "from django.shortcuts import render\n",
    "```"
   ]
  },
  {
   "cell_type": "markdown",
   "metadata": {},
   "source": [
    "*property/templates/list.html* looks like\n",
    "```django\n",
    "<!DOCTYPE html>\n",
    "<html>\n",
    "    <head>\n",
    "        <title>List of Houses</title>\n",
    "    </head>\n",
    "    <body>\n",
    "        <div>\n",
    "            <h3>All Houses</h3>\n",
    "            <ul>\n",
    "            {% for house in all_houses %}\n",
    "                <li>{{ house.title }}</li>\n",
    "            {% endfor %}\n",
    "            </ul>\n",
    "\n",
    "            <h3>Selected Houses</h3>\n",
    "            <ul>\n",
    "            {% for house in selected_houses %}\n",
    "                <li>{{ house.title }}</li>\n",
    "            {% endfor %}\n",
    "            </ul>\n",
    "        </div>\n",
    "    </body>\n",
    "</html>\n",
    "```"
   ]
  },
  {
   "cell_type": "markdown",
   "metadata": {},
   "source": [
    "we have remove all logic that is related to listing houses from **list** view and moved to **list** template using html content.\n",
    "\n",
    "In above template code. we have use two kinds of tags,\n",
    "\n",
    "1. that is inside angle brackets < and >, starts with **tag-name** and ends with **/tag-name**. These are plain html tags see [Html Tutorial](http://www.w3schools.com/html/default.asp)\n",
    "2. Other that is inside {% and %} and {{ and }}. These are django specific tags and shouldn't be uses outside django. ( But there are similar templates used in other frameworks/languages as well, like Jinja2 in python and Twig in Php, all inspired from Django and works very much similar. )\n",
    "    I. {% %} are control statements like **for** loop, or **if/else** block, each control statement must end with **end** statement like **endfor** **endif**, **endblock** for **block** statement etc.\n",
    "    II. {{ }} are just use for printing variables or showing values of variables.\n",
    "\n",
    ">Like above we loop through each of **all_houses** variable and print **title** for each house, same as we did previosuly but inside function, this is much cleaner and easy to undestand"
   ]
  },
  {
   "cell_type": "code",
   "execution_count": null,
   "metadata": {
    "collapsed": true
   },
   "outputs": [],
   "source": []
  }
 ],
 "metadata": {
  "kernelspec": {
   "display_name": "Python 3",
   "language": "python",
   "name": "python3"
  },
  "language_info": {
   "codemirror_mode": {
    "name": "ipython",
    "version": 3
   },
   "file_extension": ".py",
   "mimetype": "text/x-python",
   "name": "python",
   "nbconvert_exporter": "python",
   "pygments_lexer": "ipython3",
   "version": "3.5.0"
  }
 },
 "nbformat": 4,
 "nbformat_minor": 0
}
